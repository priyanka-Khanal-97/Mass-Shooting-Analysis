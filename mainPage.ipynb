{
 "cells": [
  {
   "cell_type": "markdown",
   "metadata": {},
   "source": [
    "<center>\n",
    "\n",
    "<h1> Twitter Reacts: Gun Violence </h1>\n",
    "<h3>Priyanka Khanal </h3>\n",
    "<h3>April 23, 2019</h3>\n",
    "\n",
    "</center>"
   ]
  },
  {
   "cell_type": "markdown",
   "metadata": {},
   "source": [
    "<img src=\"mainpic.jpg\">\n",
    "<br>\n",
    "Gun violence has increased significantly in the past decade. Not just in United States, gun violence is increasing all over the world. This project analyzes the rectioon of twitter to two different gun violence incidents of recent times. The first incident took place in Stoneman Douglas High School shooting in Parkland, Florida on February 14, 2018. This school shooting is deadliest high school shooting spree in the history of United States which led to 17 deaths and 14 non-fatal injuries.\n",
    "\n",
    "The second incident took place consequitively at two mosques in Christchurch, New Zealand on March 15, 2019. This terriost attack led to 50 deaths and 50 non-fatal injuries."
   ]
  },
  {
   "cell_type": "markdown",
   "metadata": {},
   "source": [
    "### Importing Various Python Libraries "
   ]
  },
  {
   "cell_type": "code",
   "execution_count": 34,
   "metadata": {},
   "outputs": [
    {
     "name": "stderr",
     "output_type": "stream",
     "text": [
      "[nltk_data] Downloading package vader_lexicon to\n",
      "[nltk_data]     C:\\Users\\s524702\\AppData\\Roaming\\nltk_data...\n",
      "[nltk_data]   Package vader_lexicon is already up-to-date!\n"
     ]
    }
   ],
   "source": [
    "from twitter_keys import consumer_key, consumer_secret, access_token, access_secret\n",
    "import tweepy #for twitter API\n",
    "import pickle\n",
    "import pandas as pd # To Handle Data\n",
    "import numpy as np #for number computing\n",
    "from collections import Counter\n",
    "import matplotlib.pyplot as plt\n",
    "from mpl_toolkits.mplot3d import Axes3D\n",
    "from textblob import TextBlob \n",
    "from wordcloud import WordCloud, STOPWORDS \n",
    "from IPython.display import Image\n",
    "import re\n",
    "import nltk\n",
    "nltk.download('vader_lexicon')\n",
    "from nltk.sentiment.vader import SentimentIntensityAnalyzer\n",
    "analyzer = SentimentIntensityAnalyzer()"
   ]
  },
  {
   "cell_type": "code",
   "execution_count": 35,
   "metadata": {},
   "outputs": [],
   "source": [
    "auth = tweepy.OAuthHandler(consumer_key, consumer_secret)\n",
    "auth.set_access_token(access_token, access_secret)\n",
    "api = tweepy.API(auth,wait_on_rate_limit=True)"
   ]
  },
  {
   "cell_type": "markdown",
   "metadata": {},
   "source": [
    "## Functions being used"
   ]
  },
  {
   "cell_type": "code",
   "execution_count": 36,
   "metadata": {},
   "outputs": [],
   "source": [
    "def remove_pattern(input_txt, pattern):\n",
    "    r = re.findall(pattern, input_txt)\n",
    "    for i in r:\n",
    "        input_txt = re.sub(i, '', input_txt)\n",
    "    return input_txt  "
   ]
  },
  {
   "cell_type": "code",
   "execution_count": 37,
   "metadata": {},
   "outputs": [],
   "source": [
    "def analyze_sentiment(tweet):\n",
    "    analysis = TextBlob(tweet)\n",
    "    if analysis.sentiment.polarity > 0:\n",
    "        return 1\n",
    "    elif analysis.sentiment.polarity == 0:\n",
    "        return 0\n",
    "    else:\n",
    "        return -1"
   ]
  },
  {
   "cell_type": "code",
   "execution_count": 38,
   "metadata": {},
   "outputs": [],
   "source": [
    "def plot_sent(tweets):\n",
    "    texts=[tweet.full_text for tweet in tweets]\n",
    "    sentiments=[analyzer.polarity_scores(t) for t in texts]\n",
    "    pos_x=[s['pos'] for s in sentiments]\n",
    "    neu_y=[s['neu'] for s in sentiments]\n",
    "    neg_z=[s['neg'] for s in sentiments]\n",
    "    return pos_x,neu_y, neg_z"
   ]
  },
  {
   "cell_type": "code",
   "execution_count": 39,
   "metadata": {},
   "outputs": [],
   "source": [
    "def random_color_func(word=None, font_size=None, position=None,  orientation=None, font_path=None, random_state=None):\n",
    "    h = int(360.0 * 21.0 / 255.0)\n",
    "    s = int(100.0 * 255.0 / 255.0)\n",
    "    l = int(100.0 * float(random_state.randint(60, 120)) / 255.0)\n",
    "\n",
    "    return \"hsl({}, {}%, {}%)\".format(h, s, l)"
   ]
  },
  {
   "cell_type": "markdown",
   "metadata": {},
   "source": [
    "## Pickling Data"
   ]
  },
  {
   "cell_type": "code",
   "execution_count": 40,
   "metadata": {},
   "outputs": [],
   "source": [
    "parkland=[]\n",
    "for tweet in tweepy.Cursor(api.search,q = \"#marchforourlives\",lang=\"en\",tweet_mode='extended',exclude_replies=True).items(10000):\n",
    "    parkland.append(tweet)\n",
    "#with open(\"parkland.pkl\", 'wb') as f:\n",
    "   # pickle.dump(parkland, f)\n",
    "with open('parkland.pkl', 'rb') as f:\n",
    "    parkland = pickle.load(f)"
   ]
  },
  {
   "cell_type": "code",
   "execution_count": 41,
   "metadata": {},
   "outputs": [],
   "source": [
    "christchurch=[]\n",
    "for tweet in tweepy.Cursor(api.search,q='#christchurchshooting',lang='en',tweet_mode='extended',exclude_replies=True).items(10000):\n",
    "    christchurch.append(tweet)\n",
    "#with open(\"christchurch.pkl\", 'wb') as f:\n",
    "   # pickle.dump(christchurch, f)\n",
    "with open('christchurch.pkl', 'rb') as f:\n",
    "    christchurch = pickle.load(f)\n"
   ]
  },
  {
   "cell_type": "markdown",
   "metadata": {},
   "source": [
    "## Printing in a table format"
   ]
  },
  {
   "cell_type": "code",
   "execution_count": 42,
   "metadata": {},
   "outputs": [
    {
     "data": {
      "text/html": [
       "<div>\n",
       "<style scoped>\n",
       "    .dataframe tbody tr th:only-of-type {\n",
       "        vertical-align: middle;\n",
       "    }\n",
       "\n",
       "    .dataframe tbody tr th {\n",
       "        vertical-align: top;\n",
       "    }\n",
       "\n",
       "    .dataframe thead th {\n",
       "        text-align: right;\n",
       "    }\n",
       "</style>\n",
       "<table border=\"1\" class=\"dataframe\">\n",
       "  <thead>\n",
       "    <tr style=\"text-align: right;\">\n",
       "      <th></th>\n",
       "      <th>parklandTweets</th>\n",
       "      <th>parklandlen</th>\n",
       "      <th>parklandDate</th>\n",
       "      <th>parklandSource</th>\n",
       "      <th>parklandLikes</th>\n",
       "      <th>parklandRTs</th>\n",
       "      <th>users_locs</th>\n",
       "      <th>parklandClean</th>\n",
       "      <th>parklandSA</th>\n",
       "    </tr>\n",
       "  </thead>\n",
       "  <tbody>\n",
       "    <tr>\n",
       "      <th>0</th>\n",
       "      <td>RT @nowthisnews: 735 people reportedly die fro...</td>\n",
       "      <td>140</td>\n",
       "      <td>2019-04-23 07:01:08</td>\n",
       "      <td>Twitter for iPhone</td>\n",
       "      <td>0</td>\n",
       "      <td>1538</td>\n",
       "      <td></td>\n",
       "      <td>people reportedly violence every #MarchForOurL...</td>\n",
       "      <td>0</td>\n",
       "    </tr>\n",
       "    <tr>\n",
       "      <th>1</th>\n",
       "      <td>I BELIEVE in you guys! #MarchForOurLives https...</td>\n",
       "      <td>64</td>\n",
       "      <td>2019-04-23 06:52:08</td>\n",
       "      <td>Twitter for Android</td>\n",
       "      <td>0</td>\n",
       "      <td>0</td>\n",
       "      <td>Tacoma</td>\n",
       "      <td>BELIEVE #MarchForOurLives https MsnLnDH</td>\n",
       "      <td>0</td>\n",
       "    </tr>\n",
       "    <tr>\n",
       "      <th>2</th>\n",
       "      <td>RT @cantrell4action: Am I next? @NRA #MarchFor...</td>\n",
       "      <td>78</td>\n",
       "      <td>2019-04-23 06:49:36</td>\n",
       "      <td>Twitter for iPhone</td>\n",
       "      <td>0</td>\n",
       "      <td>254</td>\n",
       "      <td></td>\n",
       "      <td>#MarchForOurLives https dnkGeM</td>\n",
       "      <td>0</td>\n",
       "    </tr>\n",
       "    <tr>\n",
       "      <th>3</th>\n",
       "      <td>RT @cantrell4action: Am I next? @NRA #MarchFor...</td>\n",
       "      <td>78</td>\n",
       "      <td>2019-04-23 06:41:40</td>\n",
       "      <td>Twitter for iPad</td>\n",
       "      <td>0</td>\n",
       "      <td>254</td>\n",
       "      <td>Munich, Germany</td>\n",
       "      <td>#MarchForOurLives https dnkGeM</td>\n",
       "      <td>0</td>\n",
       "    </tr>\n",
       "    <tr>\n",
       "      <th>4</th>\n",
       "      <td>RT @cantrell4action: Am I next? @NRA #MarchFor...</td>\n",
       "      <td>78</td>\n",
       "      <td>2019-04-23 06:25:32</td>\n",
       "      <td>Twitter for iPhone</td>\n",
       "      <td>0</td>\n",
       "      <td>254</td>\n",
       "      <td></td>\n",
       "      <td>#MarchForOurLives https dnkGeM</td>\n",
       "      <td>0</td>\n",
       "    </tr>\n",
       "  </tbody>\n",
       "</table>\n",
       "</div>"
      ],
      "text/plain": [
       "                                      parklandTweets     ...      parklandSA\n",
       "0  RT @nowthisnews: 735 people reportedly die fro...     ...               0\n",
       "1  I BELIEVE in you guys! #MarchForOurLives https...     ...               0\n",
       "2  RT @cantrell4action: Am I next? @NRA #MarchFor...     ...               0\n",
       "3  RT @cantrell4action: Am I next? @NRA #MarchFor...     ...               0\n",
       "4  RT @cantrell4action: Am I next? @NRA #MarchFor...     ...               0\n",
       "\n",
       "[5 rows x 9 columns]"
      ]
     },
     "execution_count": 42,
     "metadata": {},
     "output_type": "execute_result"
    }
   ],
   "source": [
    "data_pl = pd.DataFrame(data=[tweet.full_text for tweet in parkland], columns=['parklandTweets'])\n",
    "data_pl['parklandlen']  = np.array([len(tweet.full_text) for tweet in parkland])\n",
    "data_pl['parklandDate'] = np.array([tweet.created_at for tweet in parkland])\n",
    "data_pl['parklandSource'] = np.array([tweet.source for tweet in parkland])\n",
    "data_pl['parklandLikes']  = np.array([tweet.favorite_count for tweet in parkland])\n",
    "data_pl['parklandRTs']    = np.array([tweet.retweet_count for tweet in parkland])\n",
    "data_pl['users_locs'] = np.array([ tweet.user.location for tweet in parkland])\n",
    "data_pl['parklandClean'] = np.vectorize(remove_pattern)(data_pl['parklandTweets'], \"@[\\w]*\")\n",
    "data_pl['parklandClean'] = data_pl['parklandClean'].str.replace(\"[^a-zA-Z#]\", \" \")\n",
    "data_pl['parklandClean']= data_pl['parklandClean'].apply(lambda x: ' '.join([w for w in x.split() if len(w)>4]))\n",
    "data_pl['parklandSA'] = np.array([analyze_sentiment(tweet) for tweet in data_pl['parklandClean'] ])\n",
    "data_pl.head()"
   ]
  },
  {
   "cell_type": "code",
   "execution_count": 43,
   "metadata": {},
   "outputs": [
    {
     "data": {
      "text/html": [
       "<div>\n",
       "<style scoped>\n",
       "    .dataframe tbody tr th:only-of-type {\n",
       "        vertical-align: middle;\n",
       "    }\n",
       "\n",
       "    .dataframe tbody tr th {\n",
       "        vertical-align: top;\n",
       "    }\n",
       "\n",
       "    .dataframe thead th {\n",
       "        text-align: right;\n",
       "    }\n",
       "</style>\n",
       "<table border=\"1\" class=\"dataframe\">\n",
       "  <thead>\n",
       "    <tr style=\"text-align: right;\">\n",
       "      <th></th>\n",
       "      <th>christchurchTweets</th>\n",
       "      <th>christchurchlen</th>\n",
       "      <th>christchurchDate</th>\n",
       "      <th>christchurchSource</th>\n",
       "      <th>christchurchLikes</th>\n",
       "      <th>christchurchRTs</th>\n",
       "      <th>christhurchusers_locs</th>\n",
       "      <th>christchurchClean</th>\n",
       "      <th>christchurchSA</th>\n",
       "    </tr>\n",
       "  </thead>\n",
       "  <tbody>\n",
       "    <tr>\n",
       "      <th>0</th>\n",
       "      <td>A special visa category, Christchurch Response...</td>\n",
       "      <td>274</td>\n",
       "      <td>2019-04-23 05:22:37</td>\n",
       "      <td>Twitter for Android</td>\n",
       "      <td>0</td>\n",
       "      <td>0</td>\n",
       "      <td>New Zealand</td>\n",
       "      <td>special category Christchurch Response created...</td>\n",
       "      <td>1</td>\n",
       "    </tr>\n",
       "    <tr>\n",
       "      <th>1</th>\n",
       "      <td>New Zealand Mosque Shooting and the Far Right ...</td>\n",
       "      <td>270</td>\n",
       "      <td>2019-04-23 05:00:04</td>\n",
       "      <td>Smedian Network</td>\n",
       "      <td>0</td>\n",
       "      <td>0</td>\n",
       "      <td>Currently: 🇨🇦</td>\n",
       "      <td>Zealand Mosque Shooting Right #medium #blog #e...</td>\n",
       "      <td>1</td>\n",
       "    </tr>\n",
       "    <tr>\n",
       "      <th>2</th>\n",
       "      <td>Can't wait for her next #outfit @jacindaardern...</td>\n",
       "      <td>204</td>\n",
       "      <td>2019-04-22 22:08:27</td>\n",
       "      <td>Instagram</td>\n",
       "      <td>0</td>\n",
       "      <td>0</td>\n",
       "      <td>Melbourne</td>\n",
       "      <td>#outfit consult #waleedaly #newzealand #christ...</td>\n",
       "      <td>0</td>\n",
       "    </tr>\n",
       "    <tr>\n",
       "      <th>3</th>\n",
       "      <td>RT @Timmy_John17: To all the men and women in ...</td>\n",
       "      <td>139</td>\n",
       "      <td>2019-04-22 20:53:39</td>\n",
       "      <td>Twitter Web App</td>\n",
       "      <td>0</td>\n",
       "      <td>2</td>\n",
       "      <td></td>\n",
       "      <td>women Christchurch police emergency services d...</td>\n",
       "      <td>0</td>\n",
       "    </tr>\n",
       "    <tr>\n",
       "      <th>4</th>\n",
       "      <td>New Zealand Mosque Shooting and the Far Right ...</td>\n",
       "      <td>270</td>\n",
       "      <td>2019-04-22 15:55:03</td>\n",
       "      <td>Smedian Network</td>\n",
       "      <td>0</td>\n",
       "      <td>0</td>\n",
       "      <td>Currently: 🇨🇦</td>\n",
       "      <td>Zealand Mosque Shooting Right #medium #blog #e...</td>\n",
       "      <td>1</td>\n",
       "    </tr>\n",
       "  </tbody>\n",
       "</table>\n",
       "</div>"
      ],
      "text/plain": [
       "                                  christchurchTweets       ...        christchurchSA\n",
       "0  A special visa category, Christchurch Response...       ...                     1\n",
       "1  New Zealand Mosque Shooting and the Far Right ...       ...                     1\n",
       "2  Can't wait for her next #outfit @jacindaardern...       ...                     0\n",
       "3  RT @Timmy_John17: To all the men and women in ...       ...                     0\n",
       "4  New Zealand Mosque Shooting and the Far Right ...       ...                     1\n",
       "\n",
       "[5 rows x 9 columns]"
      ]
     },
     "execution_count": 43,
     "metadata": {},
     "output_type": "execute_result"
    }
   ],
   "source": [
    "data = pd.DataFrame(data=[tweet.full_text for tweet in christchurch], columns=['christchurchTweets'])\n",
    "data['christchurchlen']  = np.array([len(tweet.full_text) for tweet in christchurch])\n",
    "data['christchurchDate'] = np.array([tweet.created_at for tweet in christchurch])\n",
    "data['christchurchSource'] = np.array([tweet.source for tweet in christchurch])\n",
    "data['christchurchLikes']  = np.array([tweet.favorite_count for tweet in christchurch])\n",
    "data['christchurchRTs']    = np.array([tweet.retweet_count for tweet in christchurch])\n",
    "data['christhurchusers_locs'] = np.array([ tweet.user.location for tweet in christchurch])\n",
    "data['christchurchClean'] = np.vectorize(remove_pattern)(data['christchurchTweets'], \"@[\\w]*\")\n",
    "data['christchurchClean'] = data['christchurchClean'].str.replace(\"[^a-zA-Z#]\", \" \")\n",
    "data['christchurchClean']= data['christchurchClean'].apply(lambda x: ' '.join([w for w in x.split() if len(w)>4]))\n",
    "data['christchurchSA'] = np.array([analyze_sentiment(tweet) for tweet in data['christchurchClean'] ])\n",
    "data.head()"
   ]
  },
  {
   "cell_type": "markdown",
   "metadata": {},
   "source": [
    "## Sentiment Analysis"
   ]
  },
  {
   "cell_type": "code",
   "execution_count": 46,
   "metadata": {},
   "outputs": [],
   "source": [
    "CCpos_tweets = [ tweet for index, tweet in enumerate(data['christchurchClean']) if data['christchurchSA'][index] > 0]\n",
    "CCneu_tweets = [ tweet for index, tweet in enumerate(data['christchurchClean']) if data['christchurchSA'][index] == 0]\n",
    "CCneg_tweets = [ tweet for index, tweet in enumerate(data['christchurchClean']) if data['christchurchSA'][index] < 0]\n",
    "CCpos=format(len(CCpos_tweets)*100/len(data['christchurchClean']))\n",
    "CCneu=format(len(CCneu_tweets)*100/len(data['christchurchClean']))\n",
    "CCneg=format(len(CCneg_tweets)*100/len(data['christchurchClean']))"
   ]
  },
  {
   "cell_type": "code",
   "execution_count": 47,
   "metadata": {},
   "outputs": [],
   "source": [
    "PLpos_tweets = [ tweet for index, tweet in enumerate(data_pl['parklandClean']) if data_pl['parklandSA'][index] > 0]\n",
    "PLneu_tweets = [ tweet for index, tweet in enumerate(data_pl['parklandClean']) if data_pl['parklandSA'][index] == 0]\n",
    "PLneg_tweets = [ tweet for index, tweet in enumerate(data_pl['parklandClean']) if data_pl['parklandSA'][index] < 0]\n",
    "PLpos=format(len(PLpos_tweets)*100/len(data_pl['parklandClean']))\n",
    "PLneu=format(len(PLneu_tweets)*100/len(data_pl['parklandClean']))\n",
    "PLneg=format(len(PLneg_tweets)*100/len(data_pl['parklandClean']))"
   ]
  },
  {
   "cell_type": "code",
   "execution_count": 49,
   "metadata": {},
   "outputs": [],
   "source": [
    "fig=plt.figure()\n",
    "ax=fig.add_subplot(111,projection='3d')\n",
    "plx,ply,plz= plot_sent(parkland)\n",
    "ccx, ccy, ccz = plot_sent(christchurch)\n",
    "ax.scatter(ccx, ccy, ccz,c='b', marker='o', label=\"Christchurch\")\n",
    "ax.scatter(plx,ply,plz,c='r', marker='x', label=\"Parkland\")\n",
    "ax.set_xlabel('Positive')\n",
    "ax.set_ylabel('Neutral')\n",
    "ax.set_zlabel('Negative')\n",
    "leg = ax.legend();\n",
    "fig.savefig(\"output.pdf\", facecolor=fig.get_facecolor(), transparent=True)\n",
    "plt.show()"
   ]
  },
  {
   "cell_type": "markdown",
   "metadata": {},
   "source": [
    "<img src=\"sent-analysis.png\">\n",
    "\n",
    "The above 3d plot shows that most of the tweets were either positive or neutral for both the incidents whereas there were some that were negative. The negative tweets might be the one that share the experiences. "
   ]
  },
  {
   "cell_type": "markdown",
   "metadata": {},
   "source": [
    "## Most Frequently Used \"Words\""
   ]
  },
  {
   "cell_type": "code",
   "execution_count": 31,
   "metadata": {},
   "outputs": [
    {
     "data": {
      "text/html": [
       "<div>\n",
       "<style scoped>\n",
       "    .dataframe tbody tr th:only-of-type {\n",
       "        vertical-align: middle;\n",
       "    }\n",
       "\n",
       "    .dataframe tbody tr th {\n",
       "        vertical-align: top;\n",
       "    }\n",
       "\n",
       "    .dataframe thead th {\n",
       "        text-align: right;\n",
       "    }\n",
       "</style>\n",
       "<table border=\"1\" class=\"dataframe\">\n",
       "  <thead>\n",
       "    <tr style=\"text-align: right;\">\n",
       "      <th></th>\n",
       "      <th>ParklandCommon words</th>\n",
       "      <th>Parklandcount</th>\n",
       "    </tr>\n",
       "  </thead>\n",
       "  <tbody>\n",
       "    <tr>\n",
       "      <th>0</th>\n",
       "      <td>#MarchForOurLives</td>\n",
       "      <td>623</td>\n",
       "    </tr>\n",
       "    <tr>\n",
       "      <th>1</th>\n",
       "      <td>https</td>\n",
       "      <td>529</td>\n",
       "    </tr>\n",
       "    <tr>\n",
       "      <th>2</th>\n",
       "      <td>dnkGeM</td>\n",
       "      <td>188</td>\n",
       "    </tr>\n",
       "    <tr>\n",
       "      <th>3</th>\n",
       "      <td>#AARP</td>\n",
       "      <td>132</td>\n",
       "    </tr>\n",
       "    <tr>\n",
       "      <th>4</th>\n",
       "      <td>#veterans</td>\n",
       "      <td>132</td>\n",
       "    </tr>\n",
       "    <tr>\n",
       "      <th>5</th>\n",
       "      <td>#Millennials</td>\n",
       "      <td>117</td>\n",
       "    </tr>\n",
       "    <tr>\n",
       "      <th>6</th>\n",
       "      <td>#METOO</td>\n",
       "      <td>112</td>\n",
       "    </tr>\n",
       "    <tr>\n",
       "      <th>7</th>\n",
       "      <td>#Latinx</td>\n",
       "      <td>108</td>\n",
       "    </tr>\n",
       "    <tr>\n",
       "      <th>8</th>\n",
       "      <td>#LGBTQ</td>\n",
       "      <td>107</td>\n",
       "    </tr>\n",
       "    <tr>\n",
       "      <th>9</th>\n",
       "      <td>#TeaParty</td>\n",
       "      <td>101</td>\n",
       "    </tr>\n",
       "  </tbody>\n",
       "</table>\n",
       "</div>"
      ],
      "text/plain": [
       "  ParklandCommon words  Parklandcount\n",
       "0    #MarchForOurLives            623\n",
       "1                https            529\n",
       "2               dnkGeM            188\n",
       "3                #AARP            132\n",
       "4            #veterans            132\n",
       "5         #Millennials            117\n",
       "6               #METOO            112\n",
       "7              #Latinx            108\n",
       "8               #LGBTQ            107\n",
       "9            #TeaParty            101"
      ]
     },
     "execution_count": 31,
     "metadata": {},
     "output_type": "execute_result"
    }
   ],
   "source": [
    "\n",
    "PPlexemes = []\n",
    "for tweet in data_pl['parklandClean']:\n",
    "    PPlexemes.extend(tweet.split())\n",
    "def lexical_diversity(tokens):\n",
    "    return len(set(tokens))/len(tokens)\n",
    "PPld=lexical_diversity(PPlexemes)\n",
    "PPcommonwords=(Counter(PPlexemes).most_common(10))\n",
    "df_parkland = pd.DataFrame.from_dict(PPcommonwords)\n",
    "df_parkland=df_parkland.rename(columns={0:'ParklandCommon words', 1:'Parklandcount'})\n",
    "df_parkland"
   ]
  },
  {
   "cell_type": "code",
   "execution_count": 20,
   "metadata": {},
   "outputs": [
    {
     "data": {
      "text/html": [
       "<div>\n",
       "<style scoped>\n",
       "    .dataframe tbody tr th:only-of-type {\n",
       "        vertical-align: middle;\n",
       "    }\n",
       "\n",
       "    .dataframe tbody tr th {\n",
       "        vertical-align: top;\n",
       "    }\n",
       "\n",
       "    .dataframe thead th {\n",
       "        text-align: right;\n",
       "    }\n",
       "</style>\n",
       "<table border=\"1\" class=\"dataframe\">\n",
       "  <thead>\n",
       "    <tr style=\"text-align: right;\">\n",
       "      <th></th>\n",
       "      <th>CCCommon words</th>\n",
       "      <th>CCcount</th>\n",
       "    </tr>\n",
       "  </thead>\n",
       "  <tbody>\n",
       "    <tr>\n",
       "      <th>0</th>\n",
       "      <td>https</td>\n",
       "      <td>43</td>\n",
       "    </tr>\n",
       "    <tr>\n",
       "      <th>1</th>\n",
       "      <td>#NewZealand</td>\n",
       "      <td>41</td>\n",
       "    </tr>\n",
       "    <tr>\n",
       "      <th>2</th>\n",
       "      <td>#Christchurch</td>\n",
       "      <td>26</td>\n",
       "    </tr>\n",
       "    <tr>\n",
       "      <th>3</th>\n",
       "      <td>Zealand</td>\n",
       "      <td>26</td>\n",
       "    </tr>\n",
       "    <tr>\n",
       "      <th>4</th>\n",
       "      <td>#ChristchurchShooting</td>\n",
       "      <td>22</td>\n",
       "    </tr>\n",
       "    <tr>\n",
       "      <th>5</th>\n",
       "      <td>#ChristchurchMosqueAttack</td>\n",
       "      <td>22</td>\n",
       "    </tr>\n",
       "    <tr>\n",
       "      <th>6</th>\n",
       "      <td>#Christchurchshooting</td>\n",
       "      <td>21</td>\n",
       "    </tr>\n",
       "    <tr>\n",
       "      <th>7</th>\n",
       "      <td>#NewZealandShooting</td>\n",
       "      <td>20</td>\n",
       "    </tr>\n",
       "    <tr>\n",
       "      <th>8</th>\n",
       "      <td>#World</td>\n",
       "      <td>19</td>\n",
       "    </tr>\n",
       "    <tr>\n",
       "      <th>9</th>\n",
       "      <td>Mosque</td>\n",
       "      <td>18</td>\n",
       "    </tr>\n",
       "  </tbody>\n",
       "</table>\n",
       "</div>"
      ],
      "text/plain": [
       "              CCCommon words  CCcount\n",
       "0                      https       43\n",
       "1                #NewZealand       41\n",
       "2              #Christchurch       26\n",
       "3                    Zealand       26\n",
       "4      #ChristchurchShooting       22\n",
       "5  #ChristchurchMosqueAttack       22\n",
       "6      #Christchurchshooting       21\n",
       "7        #NewZealandShooting       20\n",
       "8                     #World       19\n",
       "9                     Mosque       18"
      ]
     },
     "execution_count": 20,
     "metadata": {},
     "output_type": "execute_result"
    }
   ],
   "source": [
    "CClexemes = []\n",
    "for tweet in data['christchurchClean']:\n",
    "    CClexemes.extend(tweet.split())\n",
    "def lexical_diversity(tokens):\n",
    "    return len(set(tokens))/len(tokens)\n",
    "CCld=lexical_diversity(CClexemes)\n",
    "CCcommonwords=(Counter(CClexemes).most_common(10))\n",
    "df_christchurch = pd.DataFrame.from_dict(CCcommonwords)\n",
    "df_christchurch=df_christchurch.rename(columns={0:'CCCommon words', 1:'CCcount'})\n",
    "df_christchurch"
   ]
  },
  {
   "cell_type": "markdown",
   "metadata": {},
   "source": [
    "Both the table shows 10 most frequently used words in the 10000 tweets gathered with the hashtag. This is a very interesting finding. Both the incidents have several other hastags attached to the hastag of the event. On one hand, Parkland shooting has touched various different areas which necessarily doesn't relate to the incident. For eg: #Metoo is a movement for sexual assault surviours or #Millenials. On the other hand, Christchurch shooting and teh hastags related are mainly focused on the same incident"
   ]
  },
  {
   "cell_type": "markdown",
   "metadata": {},
   "source": [
    "## Text Anlaysis on the Speech given by the leader of respective countries"
   ]
  },
  {
   "cell_type": "markdown",
   "metadata": {},
   "source": [
    "#### President Trump on Parkland Shooting"
   ]
  },
  {
   "cell_type": "code",
   "execution_count": 50,
   "metadata": {},
   "outputs": [],
   "source": [
    "from wordcloud import WordCloud, STOPWORDS, ImageColorGenerator\n",
    "trumpSpeech=open (\"trumpSpeech.txt\").read()\n",
    "wordcloud = WordCloud(collocations=False,max_words=50,stopwords=STOPWORDS, background_color='white',max_font_size=40, scale=3,color_func=random_color_func).generate(trumpSpeech)\n",
    "plt.imshow(wordcloud,interpolation=\"bilinear\") \n",
    "plt.axis('off')\n",
    "plt.show()"
   ]
  },
  {
   "cell_type": "markdown",
   "metadata": {},
   "source": [
    "<img src=\"trumpSpeech.png\">\n",
    "The above wordcloud shows randomly chosen 50 words from President Trump's speech after Parkland Shooting."
   ]
  },
  {
   "cell_type": "markdown",
   "metadata": {},
   "source": [
    "#### Prime Minister Arden on Christchurch Shooting"
   ]
  },
  {
   "cell_type": "code",
   "execution_count": 53,
   "metadata": {},
   "outputs": [],
   "source": [
    "JacindaSpeech=open (\"JacindaSpeech.txt\").read()\n",
    "wordcloud = WordCloud(collocations=False,max_words=50,stopwords=STOPWORDS, background_color='white',max_font_size=40, scale=3,color_func=random_color_func).generate(JacindaSpeech)\n",
    "plt.imshow(wordcloud,interpolation=\"bilinear\") \n",
    "plt.axis('off')\n",
    "plt.show()"
   ]
  },
  {
   "cell_type": "markdown",
   "metadata": {},
   "source": [
    "<img src=\"JacindaSpeech.png\">\n",
    "The above wordcloud shows randomly chosen 50 words from Prime Minister Ardern's speech after Christchurch Shooting."
   ]
  },
  {
   "cell_type": "markdown",
   "metadata": {},
   "source": [
    "## Conclusion"
   ]
  },
  {
   "cell_type": "markdown",
   "metadata": {},
   "source": [
    "This project mainly compared the twitter reactions to such violent crimes. Even though these shooting happened in two differnt places on the world, Twitter did react similar way. The sentiment analysis of the tweets were very similar. BOth the leaders of the nations addresed the community and the families. Both the leaders talked about the nation. President Trump on one hand did not categorize this as an act of terrorism whereas Prime Minister Ardern did. The only major difference was the use of hashtag. Christchurch shooting hashtags were focused on the shooting itself whereas parkland shooting was focusing on other differnt areas which was not necessarily related to the shooting "
   ]
  },
  {
   "cell_type": "code",
   "execution_count": null,
   "metadata": {},
   "outputs": [],
   "source": []
  }
 ],
 "metadata": {
  "kernelspec": {
   "display_name": "Python 3",
   "language": "python",
   "name": "python3"
  },
  "language_info": {
   "codemirror_mode": {
    "name": "ipython",
    "version": 3
   },
   "file_extension": ".py",
   "mimetype": "text/x-python",
   "name": "python",
   "nbconvert_exporter": "python",
   "pygments_lexer": "ipython3",
   "version": "3.7.2"
  }
 },
 "nbformat": 4,
 "nbformat_minor": 2
}
